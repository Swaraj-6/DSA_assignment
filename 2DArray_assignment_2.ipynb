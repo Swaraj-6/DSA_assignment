{
  "nbformat": 4,
  "nbformat_minor": 0,
  "metadata": {
    "colab": {
      "provenance": []
    },
    "kernelspec": {
      "name": "python3",
      "display_name": "Python 3"
    },
    "language_info": {
      "name": "python"
    }
  },
  "cells": [
    {
      "cell_type": "markdown",
      "source": [
        "<aside>\n",
        "\n",
        "💡 **Question 1**\n",
        "\n",
        "Convert 1D Array Into 2D Array\n",
        "\n",
        "You are given a **0-indexed** 1-dimensional (1D) integer array original, and two integers, m and n. You are tasked with creating a 2-dimensional (2D) array with  m rows and n columns using **all** the elements from original.\n",
        "\n",
        "The elements from indices 0 to n - 1 (**inclusive**) of original should form the first row of the constructed 2D array, the elements from indices n to 2 * n - 1 (**inclusive**) should form the second row of the constructed 2D array, and so on.\n",
        "\n",
        "Return *an* m x n *2D array constructed according to the above procedure, or an empty 2D array if it is impossible*.\n",
        "\n",
        "**Example 1:**\n",
        "\n",
        "**Input:** original = [1,2,3,4], m = 2, n = 2\n",
        "\n",
        "**Output:** [[1,2],[3,4]]\n",
        "\n",
        "**Explanation:** The constructed 2D array should contain 2 rows and 2 columns.\n",
        "\n",
        "The first group of n=2 elements in original, [1,2], becomes the first row in the constructed 2D array.\n",
        "\n",
        "The second group of n=2 elements in original, [3,4], becomes the second row in the constructed 2D array.\n",
        "\n",
        "</aside>\n"
      ],
      "metadata": {
        "id": "2_USE4PZZW6n"
      }
    },
    {
      "cell_type": "code",
      "execution_count": 6,
      "metadata": {
        "colab": {
          "base_uri": "https://localhost:8080/"
        },
        "id": "KvblSbdSZRBr",
        "outputId": "b1083ecc-8b0d-4cba-9970-e242563e966f"
      },
      "outputs": [
        {
          "output_type": "stream",
          "name": "stdout",
          "text": [
            "[[1, 2], [3, 4]]\n"
          ]
        }
      ],
      "source": [
        "def changeDimension(arr, m, n):\n",
        "  i = 0\n",
        "  res = [0]*m\n",
        "  while m:\n",
        "    res[i] = arr[n*i:n*(i+1)]\n",
        "    i+=1\n",
        "    m-=1\n",
        "\n",
        "  return res\n",
        "\n",
        "# Driver code\n",
        "original = [1,2,3,4]\n",
        "m = 2\n",
        "n = 2\n",
        "print(changeDimension(original, m, n))"
      ]
    },
    {
      "cell_type": "markdown",
      "source": [
        "<aside>\n",
        "\n",
        "💡 **Question 2**\n",
        "\n",
        "You have n coins and you want to build a staircase with these coins. The staircase consists of k rows where the ith row has exactly i coins. The last row of the staircase **may be** incomplete.\n",
        "\n",
        "Given the integer n, return *the number of **complete rows** of the staircase you will build*.\n",
        "\n",
        "**Example 1:**\n",
        "\n",
        "\n",
        "**Input:** n = 5\n",
        "\n",
        "**Output:** 2\n",
        "\n",
        "**Explanation:** Because the 3rd row is incomplete, we return 2.\n",
        "\n",
        "</aside>"
      ],
      "metadata": {
        "id": "8OYL48SEbRHV"
      }
    },
    {
      "cell_type": "code",
      "source": [
        "def stairs(n):\n",
        "  floor = 1\n",
        "  while floor<=n:\n",
        "    n-=floor\n",
        "    floor+=1\n",
        "\n",
        "  return floor-1\n",
        "\n",
        "# Driver code\n",
        "n = 5\n",
        "print(stairs(n))"
      ],
      "metadata": {
        "colab": {
          "base_uri": "https://localhost:8080/"
        },
        "id": "xCmzvu5eaUoZ",
        "outputId": "0fccac36-7339-4b01-c8bf-4d664b2b886a"
      },
      "execution_count": 7,
      "outputs": [
        {
          "output_type": "stream",
          "name": "stdout",
          "text": [
            "2\n"
          ]
        }
      ]
    },
    {
      "cell_type": "markdown",
      "source": [
        "<aside>\n",
        "\n",
        "💡 **Question 3**\n",
        "\n",
        "Given an integer array nums sorted in **non-decreasing** order, return *an array of **the squares of each number** sorted in non-decreasing order*.\n",
        "\n",
        "**Example 1:**\n",
        "\n",
        "Input: nums = [-4,-1,0,3,10]\n",
        "\n",
        "Output: [0,1,9,16,100]\n",
        "\n",
        "**Explanation:** After squaring, the array becomes [16,1,0,9,100].\n",
        "After sorting, it becomes [0,1,9,16,100]\n",
        "\n",
        "</aside>"
      ],
      "metadata": {
        "id": "DsKVOwDBcJNJ"
      }
    },
    {
      "cell_type": "code",
      "source": [
        "def square(arr):\n",
        "  i = 0\n",
        "  j = len(arr)-1\n",
        "  x = j\n",
        "  res = [0]*len(arr)\n",
        "  while i<=j:\n",
        "    if abs(arr[i]) >= abs(arr[j]):\n",
        "      res[x] = (arr[i]*arr[i])\n",
        "      i+=1\n",
        "\n",
        "    else:\n",
        "      res[x] = (arr[j]*arr[j])\n",
        "      j-=1\n",
        "    x-=1\n",
        "\n",
        "  return res\n",
        "\n",
        "# Driver code\n",
        "nums = [-4,-1,0,3,10]\n",
        "print(square(nums))"
      ],
      "metadata": {
        "colab": {
          "base_uri": "https://localhost:8080/"
        },
        "id": "467twUH1b0tj",
        "outputId": "82314aa6-9e16-4307-a7a0-e598ef425ccc"
      },
      "execution_count": 8,
      "outputs": [
        {
          "output_type": "stream",
          "name": "stdout",
          "text": [
            "[0, 1, 9, 16, 100]\n"
          ]
        }
      ]
    },
    {
      "cell_type": "markdown",
      "source": [
        "<aside>\n",
        "\n",
        "💡 **Question 4**\n",
        "\n",
        "Given two **0-indexed** integer arrays nums1 and nums2, return *a list* answer *of size* 2 *where:*\n",
        "\n",
        "- answer[0] *is a list of all **distinct** integers in* nums1 *which are **not** present in* nums2*.*\n",
        "- answer[1] *is a list of all **distinct** integers in* nums2 *which are **not** present in* nums1.\n",
        "\n",
        "**Note** that the integers in the lists may be returned in **any** order.\n",
        "\n",
        "**Example 1:**\n",
        "\n",
        "**Input:** nums1 = [1,2,3], nums2 = [2,4,6]\n",
        "\n",
        "**Output:** [[1,3],[4,6]]\n",
        "\n",
        "**Explanation:**\n",
        "\n",
        "For nums1, nums1[1] = 2 is present at index 0 of nums2, whereas nums1[0] = 1 and nums1[2] = 3 are not present in nums2. Therefore, answer[0] = [1,3].\n",
        "\n",
        "For nums2, nums2[0] = 2 is present at index 1 of nums1, whereas nums2[1] = 4 and nums2[2] = 6 are not present in nums2. Therefore, answer[1] = [4,6].\n",
        "\n",
        "</aside>"
      ],
      "metadata": {
        "id": "DC8O3J_-cnJN"
      }
    },
    {
      "cell_type": "code",
      "source": [
        "def ques2(nums1, nums2):\n",
        "  s1 = {s for s in nums1}\n",
        "  s2 = {s for s in nums2}\n",
        "  l1 = [i for i in s1]\n",
        "  l2 = [i for i in s2]\n",
        "  res1 = [i for i in l1 if i not in l2]\n",
        "  res2 = [i for i in l2 if i not in l1]\n",
        "\n",
        "  return [res1, res2]\n",
        "\n",
        "# Driver code\n",
        "nums1 = [1,2,3]\n",
        "nums2 = [2,4,6]\n",
        "print(ques2(nums1, nums2))"
      ],
      "metadata": {
        "colab": {
          "base_uri": "https://localhost:8080/"
        },
        "id": "Xs1c0pqdcMa8",
        "outputId": "9b7753b8-378b-4b22-df4c-12a667a561ba"
      },
      "execution_count": 9,
      "outputs": [
        {
          "output_type": "stream",
          "name": "stdout",
          "text": [
            "[[1, 3], [4, 6]]\n"
          ]
        }
      ]
    },
    {
      "cell_type": "markdown",
      "source": [
        "<aside>\n",
        "\n",
        "💡 **Question 5**\n",
        "\n",
        "Given two integer arrays arr1 and arr2, and the integer d, *return the distance value between the two arrays*.\n",
        "\n",
        "The distance value is defined as the number of elements arr1[i] such that there is not any element arr2[j] where |arr1[i]-arr2[j]| <= d.\n",
        "\n",
        "**Example 1:**\n",
        "\n",
        "**Input:** arr1 = [4,5,8], arr2 = [10,9,1,8], d = 2\n",
        "\n",
        "**Output:** 2\n",
        "\n",
        "**Explanation:**\n",
        "\n",
        "For arr1[0]=4 we have:\n",
        "\n",
        "|4-10|=6 > d=2\n",
        "\n",
        "|4-9|=5 > d=2\n",
        "\n",
        "|4-1|=3 > d=2\n",
        "\n",
        "|4-8|=4 > d=2\n",
        "\n",
        "For arr1[1]=5 we have:\n",
        "\n",
        "|5-10|=5 > d=2\n",
        "\n",
        "|5-9|=4 > d=2\n",
        "\n",
        "|5-1|=4 > d=2\n",
        "\n",
        "|5-8|=3 > d=2\n",
        "\n",
        "For arr1[2]=8 we have:\n",
        "\n",
        "**|8-10|=2 <= d=2**\n",
        "\n",
        "**|8-9|=1 <= d=2**\n",
        "\n",
        "|8-1|=7 > d=2\n",
        "\n",
        "**|8-8|=0 <= d=2**\n",
        "\n",
        "</aside>"
      ],
      "metadata": {
        "id": "xBjm1oNOfFdF"
      }
    },
    {
      "cell_type": "code",
      "source": [
        "def distance_value(arr1, arr2, d):\n",
        "    distance_count = 0\n",
        "\n",
        "    for elem1 in arr1:\n",
        "        is_distance_satisfied = True\n",
        "        for elem2 in arr2:\n",
        "            if abs(elem1 - elem2) <= d:\n",
        "                is_distance_satisfied = False\n",
        "                break\n",
        "        if is_distance_satisfied:\n",
        "            distance_count += 1\n",
        "\n",
        "    return distance_count\n",
        "\n",
        "\n",
        "# Driver code\n",
        "arr1 = [4, 5, 8]\n",
        "arr2 = [10, 9, 1, 8]\n",
        "d = 2\n",
        "result = distance_value(arr1, arr2, d)\n",
        "print(result)"
      ],
      "metadata": {
        "colab": {
          "base_uri": "https://localhost:8080/"
        },
        "id": "RHhpgEYJc3Lk",
        "outputId": "4985d3f6-ac86-49e4-e07b-ae88bcc8d638"
      },
      "execution_count": 10,
      "outputs": [
        {
          "output_type": "stream",
          "name": "stdout",
          "text": [
            "2\n"
          ]
        }
      ]
    },
    {
      "cell_type": "markdown",
      "source": [
        "<aside>\n",
        "\n",
        "💡 **Question 6**\n",
        "\n",
        "Given an integer array nums of length n where all the integers of nums are in the range [1, n] and each integer appears **once** or **twice**, return *an array of all the integers that appears twice*.\n",
        "\n",
        "You must write an algorithm that runs in O(n) time and uses only constant extra space.\n",
        "\n",
        "**Example 1:**\n",
        "\n",
        "**Input:** nums = [4,3,2,7,8,2,3,1]\n",
        "\n",
        "**Output:**\n",
        "\n",
        "[2,3]\n",
        "\n",
        "</aside>"
      ],
      "metadata": {
        "id": "DqDqN5pQfeHc"
      }
    },
    {
      "cell_type": "code",
      "source": [
        "from collections import Counter\n",
        "def twice(arr):\n",
        "  count = Counter(arr)\n",
        "  res = []\n",
        "  for i in count.keys():\n",
        "    if count[i] == 2:\n",
        "      res.append(i)\n",
        "\n",
        "  return res\n",
        "\n",
        "\n",
        "# Driver code\n",
        "nums = [4,3,2,7,8,2,3,1]\n",
        "print(twice(nums))"
      ],
      "metadata": {
        "colab": {
          "base_uri": "https://localhost:8080/"
        },
        "id": "lJtPzhP-e9oP",
        "outputId": "b20733aa-610a-4edd-eeae-f8d9d587ca64"
      },
      "execution_count": 11,
      "outputs": [
        {
          "output_type": "stream",
          "name": "stdout",
          "text": [
            "[3, 2]\n"
          ]
        }
      ]
    },
    {
      "cell_type": "markdown",
      "source": [
        "<aside>\n",
        "\n",
        "💡 **Question 7**\n",
        "\n",
        "Suppose an array of length n sorted in ascending order is **rotated** between 1 and n times. For example, the array nums = [0,1,2,4,5,6,7] might become:\n",
        "\n",
        "- [4,5,6,7,0,1,2] if it was rotated 4 times.\n",
        "- [0,1,2,4,5,6,7] if it was rotated 7 times.\n",
        "\n",
        "Notice that **rotating** an array [a[0], a[1], a[2], ..., a[n-1]] 1 time results in the array [a[n-1], a[0], a[1], a[2], ..., a[n-2]].\n",
        "\n",
        "Given the sorted rotated array nums of **unique** elements, return *the minimum element of this array*.\n",
        "\n",
        "You must write an algorithm that runs in O(log n) time.\n",
        "\n",
        "**Example 1:**\n",
        "\n",
        "**Input:** nums = [3,4,5,1,2]\n",
        "\n",
        "**Output:** 1\n",
        "\n",
        "**Explanation:**\n",
        "\n",
        "The original array was [1,2,3,4,5] rotated 3 times.\n",
        "\n",
        "</aside>"
      ],
      "metadata": {
        "id": "H70JYAM8hvm5"
      }
    },
    {
      "cell_type": "code",
      "source": [
        "def find_minimum(nums):\n",
        "    left, right = 0, len(nums) - 1\n",
        "\n",
        "    while left < right:\n",
        "        mid = left + (right - left) // 2\n",
        "\n",
        "        if nums[mid] > nums[right]:\n",
        "            left = mid + 1\n",
        "        else:\n",
        "            right = mid\n",
        "\n",
        "    return nums[left]\n",
        "\n",
        "# Driver code\n",
        "nums = [3, 4, 5, 1, 2]\n",
        "result = find_minimum(nums)\n",
        "print(result)"
      ],
      "metadata": {
        "colab": {
          "base_uri": "https://localhost:8080/"
        },
        "id": "hJNsN-uUgVAj",
        "outputId": "cb890565-18ff-491d-e312-ef82fa4a1393"
      },
      "execution_count": 12,
      "outputs": [
        {
          "output_type": "stream",
          "name": "stdout",
          "text": [
            "1\n"
          ]
        }
      ]
    },
    {
      "cell_type": "markdown",
      "source": [
        "<aside>\n",
        "\n",
        "💡 **Question 8**\n",
        "\n",
        "An integer array original is transformed into a **doubled** array changed by appending **twice the value** of every element in original, and then randomly **shuffling** the resulting array.\n",
        "\n",
        "Given an array changed, return original *if* changed *is a **doubled** array. If* changed *is not a **doubled** array, return an empty array. The elements in* original *may be returned in **any** order*.\n",
        "\n",
        "**Example 1:**\n",
        "\n",
        "**Input:** changed = [1,3,4,2,6,8]\n",
        "\n",
        "**Output:** [1,3,4]\n",
        "\n",
        "**Explanation:** One possible original array could be [1,3,4]:\n",
        "\n",
        "- Twice the value of 1 is 1 * 2 = 2.\n",
        "- Twice the value of 3 is 3 * 2 = 6.\n",
        "- Twice the value of 4 is 4 * 2 = 8.\n",
        "\n",
        "Other original arrays could be [4,3,1] or [3,1,4].\n",
        "\n",
        "</aside>"
      ],
      "metadata": {
        "id": "4nYW4EtTjwLe"
      }
    },
    {
      "cell_type": "code",
      "source": [
        "def find_original(changed):\n",
        "    freq = {}\n",
        "    for num in changed:\n",
        "        freq[num] = freq.get(num, 0) + 1\n",
        "\n",
        "    original = []\n",
        "    for num in changed:\n",
        "        if freq[num] == 0:\n",
        "            continue\n",
        "        if freq.get(num * 2, 0) > 0:\n",
        "            original.append(num)\n",
        "            freq[num] -= 1\n",
        "            freq[num * 2] -= 1\n",
        "        else:\n",
        "            return []\n",
        "\n",
        "    return original\n",
        "\n",
        "# Driver code\n",
        "changed = [1, 3, 4, 2, 6, 8]\n",
        "result = find_original(changed)\n",
        "print(result)\n"
      ],
      "metadata": {
        "colab": {
          "base_uri": "https://localhost:8080/"
        },
        "id": "xNvUQINShr3u",
        "outputId": "07f96f54-59f9-49d5-faf0-010a566026fc"
      },
      "execution_count": 15,
      "outputs": [
        {
          "output_type": "stream",
          "name": "stdout",
          "text": [
            "[1, 3, 4]\n"
          ]
        }
      ]
    },
    {
      "cell_type": "code",
      "source": [],
      "metadata": {
        "id": "VnVqyGD4ZSu6"
      },
      "execution_count": null,
      "outputs": []
    },
    {
      "cell_type": "code",
      "source": [],
      "metadata": {
        "id": "FRzouogOZSxH"
      },
      "execution_count": null,
      "outputs": []
    },
    {
      "cell_type": "code",
      "source": [],
      "metadata": {
        "id": "uT-kFmFrZS1c"
      },
      "execution_count": null,
      "outputs": []
    },
    {
      "cell_type": "code",
      "source": [],
      "metadata": {
        "id": "a8agd4krZS33"
      },
      "execution_count": null,
      "outputs": []
    }
  ]
}