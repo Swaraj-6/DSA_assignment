{
  "nbformat": 4,
  "nbformat_minor": 0,
  "metadata": {
    "colab": {
      "provenance": []
    },
    "kernelspec": {
      "name": "python3",
      "display_name": "Python 3"
    },
    "language_info": {
      "name": "python"
    }
  },
  "cells": [
    {
      "cell_type": "code",
      "execution_count": 1,
      "metadata": {
        "id": "g1ZaaouZV9HP"
      },
      "outputs": [],
      "source": [
        "# You are given two non-empty linked lists representing two non-negative integers. The digits are stored in reverse order, and each of their nodes contains a single digit. Add the two numbers and return the sum as a linked list.\n",
        "\n",
        "# You may assume the two numbers do not contain any leading zero, except the number 0 itself."
      ]
    },
    {
      "cell_type": "code",
      "source": [
        "def add(l1, l2):\n",
        "  x1 = \"\"\n",
        "  for i in l1:\n",
        "    x1+=str(i)\n",
        "\n",
        "  x2 = \"\"\n",
        "  for j in l2:\n",
        "    x2+=str(j)\n",
        "\n",
        "  sum = str(int(x1[::-1]) + int(x2[::-1]))\n",
        "\n",
        "  res = []\n",
        "  for k in sum[::-1]:\n",
        "    res.append(int(k))\n",
        "\n",
        "  return res\n",
        "\n",
        "\n",
        "l1 = [2,4,3]\n",
        "l2 = [5,6,4]\n",
        "add(l1, l2)"
      ],
      "metadata": {
        "colab": {
          "base_uri": "https://localhost:8080/"
        },
        "id": "1cbGGy_TWEjU",
        "outputId": "ae2c2dee-5264-4920-db12-d94edbdc9f1d"
      },
      "execution_count": 2,
      "outputs": [
        {
          "output_type": "execute_result",
          "data": {
            "text/plain": [
              "[7, 0, 8]"
            ]
          },
          "metadata": {},
          "execution_count": 2
        }
      ]
    },
    {
      "cell_type": "code",
      "source": [],
      "metadata": {
        "id": "iYKniBV5V-YT"
      },
      "execution_count": null,
      "outputs": []
    },
    {
      "cell_type": "code",
      "source": [],
      "metadata": {
        "id": "wwpLqdufV-aj"
      },
      "execution_count": null,
      "outputs": []
    },
    {
      "cell_type": "code",
      "source": [],
      "metadata": {
        "id": "K8C5QWD0V-dW"
      },
      "execution_count": null,
      "outputs": []
    },
    {
      "cell_type": "code",
      "source": [],
      "metadata": {
        "id": "5sqQ9m3zV-mw"
      },
      "execution_count": null,
      "outputs": []
    }
  ]
}