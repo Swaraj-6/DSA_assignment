{
  "nbformat": 4,
  "nbformat_minor": 0,
  "metadata": {
    "colab": {
      "provenance": []
    },
    "kernelspec": {
      "name": "python3",
      "display_name": "Python 3"
    },
    "language_info": {
      "name": "python"
    }
  },
  "cells": [
    {
      "cell_type": "code",
      "execution_count": null,
      "metadata": {
        "colab": {
          "base_uri": "https://localhost:8080/"
        },
        "id": "GjCUKUcR2t-J",
        "outputId": "16c3a562-a018-41d3-947e-3b2fcfe4f83b"
      },
      "outputs": [
        {
          "output_type": "stream",
          "name": "stdout",
          "text": [
            "[2, 3]\n"
          ]
        }
      ],
      "source": [
        "# Question 1\n",
        "def target_add(arr, target):\n",
        "  d = {}\n",
        "  for i in range(len(arr)):\n",
        "    d[i] = arr[i]\n",
        "\n",
        "  x = sorted(arr)\n",
        "  l = 0\n",
        "  r = len(arr)-1\n",
        "  while r>l:\n",
        "    if (arr[l] + arr[r]) < target:\n",
        "      l+=1\n",
        "    \n",
        "    elif (arr[l] + arr[r]) > target:\n",
        "      r-=1\n",
        "\n",
        "    elif (arr[l] + arr[r]) == target:\n",
        "      break\n",
        "\n",
        "  ele1 = l\n",
        "  ele2 = r\n",
        "  l = []\n",
        "  for i in d.keys():\n",
        "    if d[i] == arr[ele1] or d[i] == arr[ele2]:\n",
        "      l.append(i)\n",
        "      if len(l) == 2:\n",
        "        return l\n",
        "\n",
        "  return -1\n",
        "\n",
        "\n",
        "arr = [2,7,11,15,14,89,15]\n",
        "target = 26\n",
        "print(target_add(arr, target))\n",
        "     \n",
        "    "
      ]
    },
    {
      "cell_type": "code",
      "source": [
        "# Question 2\n",
        "def remove_element(nums, val):\n",
        "    i = 0  # Pointer for the new array\n",
        "    for j in range(len(nums)):\n",
        "        if nums[j] != val:\n",
        "            nums[i] = nums[j]\n",
        "            i += 1\n",
        "\n",
        "    return i\n",
        "\n",
        "remove_element([2,3,2,3], 3)"
      ],
      "metadata": {
        "id": "DfOHu68UQ7ef",
        "colab": {
          "base_uri": "https://localhost:8080/"
        },
        "outputId": "1153d776-9545-4e6e-f3e9-0b6ed2719d55"
      },
      "execution_count": null,
      "outputs": [
        {
          "output_type": "execute_result",
          "data": {
            "text/plain": [
              "2"
            ]
          },
          "metadata": {},
          "execution_count": 2
        }
      ]
    },
    {
      "cell_type": "code",
      "source": [
        "# Question 3\n",
        "import bisect\n",
        "\n",
        "def searchInsert(nums, target):\n",
        "    return bisect.bisect_left(nums, target)\n",
        "\n",
        "\n",
        "arr = [1, 3, 5, 6]\n",
        "t = 5\n",
        "print(searchInsert(arr, t))"
      ],
      "metadata": {
        "colab": {
          "base_uri": "https://localhost:8080/"
        },
        "id": "gucCReQVD0Fg",
        "outputId": "7b2f677d-746b-4a9b-cc88-af7e6d70e41b"
      },
      "execution_count": null,
      "outputs": [
        {
          "output_type": "stream",
          "name": "stdout",
          "text": [
            "2\n"
          ]
        }
      ]
    },
    {
      "cell_type": "code",
      "source": [
        "# Question 4\n",
        "def addOne(arr):\n",
        "  s = \"\"\n",
        "  l=[]\n",
        "  for i in arr:\n",
        "    s+=str(i)\n",
        "\n",
        "  s = str(int(s) + 1)\n",
        "  for i in s:\n",
        "    l.append(int(i))\n",
        "\n",
        "  return l\n",
        "\n",
        "addOne([1,2,3])"
      ],
      "metadata": {
        "colab": {
          "base_uri": "https://localhost:8080/"
        },
        "id": "qJ8qmKTUfa_j",
        "outputId": "797fff14-3dd8-48ec-fabc-83806d1aabb2"
      },
      "execution_count": 3,
      "outputs": [
        {
          "output_type": "execute_result",
          "data": {
            "text/plain": [
              "[1, 2, 4]"
            ]
          },
          "metadata": {},
          "execution_count": 3
        }
      ]
    },
    {
      "cell_type": "code",
      "source": [
        "# Question 5\n",
        "def merge(arr1, m, arr2, n):\n",
        "  j=0\n",
        "  for i in range(m, len(arr1)):\n",
        "    arr1[i] = arr2[j]\n",
        "    j+=1\n",
        "\n",
        "  return sorted(arr1)\n",
        "\n",
        "merge([1,2,3,0,0,0], 3, [2,5,6], 3)"
      ],
      "metadata": {
        "id": "UOMu6uxJkqao",
        "colab": {
          "base_uri": "https://localhost:8080/"
        },
        "outputId": "d9d93a01-09f2-45a6-ee47-7fef3b9ae2c8"
      },
      "execution_count": 6,
      "outputs": [
        {
          "output_type": "execute_result",
          "data": {
            "text/plain": [
              "[1, 2, 2, 3, 5, 6]"
            ]
          },
          "metadata": {},
          "execution_count": 6
        }
      ]
    },
    {
      "cell_type": "code",
      "source": [
        "# Question 6\n",
        "def appear(arr):\n",
        "  d = {}\n",
        "  for i in arr:\n",
        "    if i not in d:\n",
        "      d[i] = 1\n",
        "    else:\n",
        "      d[i]+=1\n",
        "\n",
        "  for i in d.values():\n",
        "    if i > 1:\n",
        "      return True\n",
        "\n",
        "  return False\n",
        "\n",
        "appear([1,2,3,4,5,4])"
      ],
      "metadata": {
        "colab": {
          "base_uri": "https://localhost:8080/"
        },
        "id": "pyhFr0oHo8g0",
        "outputId": "42179e65-23da-47d0-8c46-555d01f44398"
      },
      "execution_count": 9,
      "outputs": [
        {
          "output_type": "execute_result",
          "data": {
            "text/plain": [
              "True"
            ]
          },
          "metadata": {},
          "execution_count": 9
        }
      ]
    },
    {
      "cell_type": "code",
      "source": [
        "# Question 7\n",
        "def moveZeroes(nums):\n",
        "    left = 0\n",
        "    right = 0\n",
        "\n",
        "    while right < len(nums):\n",
        "        if nums[right] != 0:\n",
        "            nums[left], nums[right] = nums[right], nums[left]\n",
        "            left += 1\n",
        "        right += 1\n",
        "\n",
        "\n",
        "nums = [0, 1, 0, 3, 12]\n",
        "moveZeroes(nums)\n",
        "print(nums)"
      ],
      "metadata": {
        "colab": {
          "base_uri": "https://localhost:8080/"
        },
        "id": "6QZNH2glqBzb",
        "outputId": "3ea9e438-e271-472a-f717-cf606231dd15"
      },
      "execution_count": 11,
      "outputs": [
        {
          "output_type": "stream",
          "name": "stdout",
          "text": [
            "[1, 3, 12, 0, 0]\n"
          ]
        }
      ]
    },
    {
      "cell_type": "code",
      "source": [
        "# Question 8\n",
        "def repeat(arr, n):\n",
        "  d = {}\n",
        "  for i in range(1, n+1):\n",
        "    d[i] = 0\n",
        "\n",
        "  for i in arr:\n",
        "    d[i]+=1\n",
        "  res = []\n",
        "  for i in d.keys():\n",
        "    if d[i]==0 or d[i]>1:\n",
        "      res.append(i)\n",
        "\n",
        "  return res\n",
        "\n",
        "repeat([1,2,3,3,4], 5)"
      ],
      "metadata": {
        "colab": {
          "base_uri": "https://localhost:8080/"
        },
        "id": "oHXrGV2cq51x",
        "outputId": "53574ed5-bac7-4369-fbfe-e6cc69ce0018"
      },
      "execution_count": 13,
      "outputs": [
        {
          "output_type": "execute_result",
          "data": {
            "text/plain": [
              "[3, 5]"
            ]
          },
          "metadata": {},
          "execution_count": 13
        }
      ]
    },
    {
      "cell_type": "code",
      "source": [],
      "metadata": {
        "id": "8d-YG9ITsgvw"
      },
      "execution_count": null,
      "outputs": []
    },
    {
      "cell_type": "code",
      "source": [],
      "metadata": {
        "id": "81oPiMAr2-cW"
      },
      "execution_count": null,
      "outputs": []
    },
    {
      "cell_type": "code",
      "source": [],
      "metadata": {
        "id": "HHfBDxnR2-jc"
      },
      "execution_count": null,
      "outputs": []
    },
    {
      "cell_type": "code",
      "source": [],
      "metadata": {
        "id": "XidpDko42-n6"
      },
      "execution_count": null,
      "outputs": []
    },
    {
      "cell_type": "code",
      "source": [],
      "metadata": {
        "id": "FXgOVjCw2-7A"
      },
      "execution_count": null,
      "outputs": []
    }
  ]
}