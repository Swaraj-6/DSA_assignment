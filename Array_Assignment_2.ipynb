{
  "nbformat": 4,
  "nbformat_minor": 0,
  "metadata": {
    "colab": {
      "provenance": []
    },
    "kernelspec": {
      "name": "python3",
      "display_name": "Python 3"
    },
    "language_info": {
      "name": "python"
    }
  },
  "cells": [
    {
      "cell_type": "markdown",
      "source": [
        "Question 1\n",
        "Given an integer array nums of 2n integers, group these integers into n pairs (a1, b1), (a2, b2),..., (an, bn) such that the sum of min(ai, bi) for all i is maximized. Return the maximized sum.\n",
        "\n",
        "Example 1:\n",
        "Input: nums = [1,4,3,2]\n",
        "Output: 4"
      ],
      "metadata": {
        "id": "pL5JIiaA3S_T"
      }
    },
    {
      "cell_type": "code",
      "execution_count": 1,
      "metadata": {
        "id": "rugdpLXt3Pnn",
        "colab": {
          "base_uri": "https://localhost:8080/"
        },
        "outputId": "8e136822-74d6-4f0c-d453-6d859c19edbc"
      },
      "outputs": [
        {
          "output_type": "stream",
          "name": "stdout",
          "text": [
            "4\n"
          ]
        }
      ],
      "source": [
        "def arrayPairSum(nums):\n",
        "    nums.sort()  # Sort the array in ascending order\n",
        "    max_sum = 0\n",
        "\n",
        "    for i in range(0, len(nums), 2):\n",
        "        max_sum += nums[i]\n",
        "\n",
        "    return max_sum\n",
        "\n",
        "arr = [1,4,3,2]\n",
        "print(arrayPairSum(arr))"
      ]
    },
    {
      "cell_type": "markdown",
      "source": [
        "Question 2\n",
        "Alice has n candies, where the ith candy is of type candyType[i]. Alice noticed that she started to gain weight, so she visited a doctor.\n",
        "\n",
        "The doctor advised Alice to only eat n / 2 of the candies she has (n is always even). Alice likes her candies very much, and she wants to eat the maximum number of different types of candies while still following the doctor's advice.\n",
        "\n",
        "Given the integer array candyType of length n, return the maximum number of different types of candies she can eat if she only eats n / 2 of them.\n",
        "\n",
        "Example 1:\n",
        "Input: candyType = [1,1,2,2,3,3]\n",
        "Output: 3"
      ],
      "metadata": {
        "id": "e3jUAjVK3nny"
      }
    },
    {
      "cell_type": "code",
      "source": [
        "def candy(arr):\n",
        "  uni = set()\n",
        "  for i in arr:\n",
        "    uni.add(i)\n",
        "\n",
        "  return min(len(uni), len(arr)//2)\n",
        "\n",
        "# Driver code\n",
        "candyType = [1,1,2,2,3,3]\n",
        "print(candy(candyType))"
      ],
      "metadata": {
        "colab": {
          "base_uri": "https://localhost:8080/"
        },
        "id": "wbDwacv_3i9W",
        "outputId": "6aa2837b-7654-4a91-96c0-ec1fe3d68b43"
      },
      "execution_count": 6,
      "outputs": [
        {
          "output_type": "stream",
          "name": "stdout",
          "text": [
            "3\n"
          ]
        }
      ]
    },
    {
      "cell_type": "markdown",
      "source": [
        "Question 3\n",
        "We define a harmonious array as an array where the difference between its maximum value\n",
        "and its minimum value is exactly 1.\n",
        "\n",
        "Given an integer array nums, return the length of its longest harmonious subsequence\n",
        "among all its possible subsequences.\n",
        "\n",
        "A subsequence of an array is a sequence that can be derived from the array by deleting some or no elements without changing the order of the remaining elements.\n",
        "\n",
        "Example 1:\n",
        "Input: nums = [1,3,2,2,5,2,3,7]\n",
        "Output: 5\n"
      ],
      "metadata": {
        "id": "er4sUAO14zkg"
      }
    },
    {
      "cell_type": "code",
      "source": [
        "def harmonics(arr):\n",
        "  res = sorted(arr)\n",
        "  i = 0\n",
        "  j = len(res)-1\n",
        "  while i<j:\n",
        "    if res[j] - res[i] == 1:\n",
        "      break\n",
        "\n",
        "    else:\n",
        "      i+=1\n",
        "      j-=1\n",
        "\n",
        "  x = [res[p] for p in range(i, j+1)]\n",
        "\n",
        "  har = []\n",
        "  for i in arr:\n",
        "    if i in x:\n",
        "      har.append(i)\n",
        "\n",
        "  return len(har)\n",
        "\n",
        "\n",
        "# Driver code\n",
        "arr = [1,3,2,2,5,2,3,7]\n",
        "print(harmonics(arr))"
      ],
      "metadata": {
        "colab": {
          "base_uri": "https://localhost:8080/"
        },
        "id": "V6QXHVV44bST",
        "outputId": "f52c5949-6eea-47cf-e188-ec7330c63062"
      },
      "execution_count": 11,
      "outputs": [
        {
          "output_type": "stream",
          "name": "stdout",
          "text": [
            "5\n"
          ]
        }
      ]
    },
    {
      "cell_type": "markdown",
      "source": [
        "Question 4\n",
        "You have a long flowerbed in which some of the plots are planted, and some are not.\n",
        "However, flowers cannot be planted in adjacent plots.\n",
        "Given an integer array flowerbed containing 0's and 1's, where 0 means empty and 1 means not empty, and an integer n, return true if n new flowers can be planted in the flowerbed without violating the no-adjacent-flowers rule and false otherwise.\n",
        "\n",
        "Example 1:\n",
        "Input: flowerbed = [1,0,0,0,1], n = 1\n",
        "Output: true"
      ],
      "metadata": {
        "id": "4S2swrVTEwOT"
      }
    },
    {
      "cell_type": "code",
      "source": [
        "def canPlaceFlowers(flowerbed, n):\n",
        "    planted = 0\n",
        "    length = len(flowerbed)\n",
        "\n",
        "    for i in range(length):\n",
        "        if (\n",
        "            flowerbed[i] == 0 and\n",
        "            (i == 0 or flowerbed[i - 1] == 0) and\n",
        "            (i == length - 1 or flowerbed[i + 1] == 0)\n",
        "        ):\n",
        "            flowerbed[i] = 1\n",
        "            planted += 1\n",
        "            if planted >= n:\n",
        "                return True\n",
        "\n",
        "    return planted >= n\n",
        "\n",
        "# Driver code\n",
        "arr = [1,0,0,0,1]\n",
        "n = 1\n",
        "print(canPlaceFlowers(arr, n))"
      ],
      "metadata": {
        "colab": {
          "base_uri": "https://localhost:8080/"
        },
        "id": "bWCVNn5XBxkO",
        "outputId": "fa2623a2-33fb-409b-aae0-8af271534322"
      },
      "execution_count": 14,
      "outputs": [
        {
          "output_type": "stream",
          "name": "stdout",
          "text": [
            "True\n"
          ]
        }
      ]
    },
    {
      "cell_type": "markdown",
      "source": [
        "Question 5\n",
        "Given an integer array nums, find three numbers whose product is maximum and return the maximum product.\n",
        "\n",
        "Example 1:\n",
        "Input: nums = [1,2,3]\n",
        "Output: 6"
      ],
      "metadata": {
        "id": "6BwjyruMGJJS"
      }
    },
    {
      "cell_type": "code",
      "source": [
        "def product(a):\n",
        "  if len(a) == 3:\n",
        "    return a[0]*a[1]*a[2]\n",
        "\n",
        "  prod = 1\n",
        "  a.sort()\n",
        "  return a[-1]*a[-2]*a[-3]\n",
        "\n",
        "\n",
        "# Driver code\n",
        "arr = [1,2,3,4,5,6,8,8,9]\n",
        "print(product(arr))"
      ],
      "metadata": {
        "colab": {
          "base_uri": "https://localhost:8080/"
        },
        "id": "9dxodkanFE3r",
        "outputId": "d281fc8f-1b98-4f05-c736-020726a476b0"
      },
      "execution_count": 16,
      "outputs": [
        {
          "output_type": "stream",
          "name": "stdout",
          "text": [
            "576\n"
          ]
        }
      ]
    },
    {
      "cell_type": "markdown",
      "source": [
        "Question 6\n",
        "Given an array of integers nums which is sorted in ascending order, and an integer target,\n",
        "write a function to search target in nums. If target exists, then return its index. Otherwise,\n",
        "return -1.\n",
        "\n",
        "You must write an algorithm with O(log n) runtime complexity.\n",
        "\n",
        "Input: nums = [-1,0,3,5,9,12], target = 9\n",
        "Output: 4\n",
        "\n",
        "Explanation: 9 exists in nums and its index is 4"
      ],
      "metadata": {
        "id": "_-I8L-0PHRxy"
      }
    },
    {
      "cell_type": "code",
      "source": [
        "def search(arr, k):\n",
        "  i = 0\n",
        "  j = len(arr)-1\n",
        "  while i<=j:\n",
        "    mid = i+(j-i)//2\n",
        "    if arr[mid] == k:\n",
        "      return mid\n",
        "    elif mid > k:\n",
        "      j = mid-1\n",
        "    else:\n",
        "      i = mid+1\n",
        "\n",
        "  return -1\n",
        "\n",
        "\n",
        "# Driver code\n",
        "arr = [-1,0,3,5,9,12]\n",
        "k = 9\n",
        "print(search(arr, 9))"
      ],
      "metadata": {
        "colab": {
          "base_uri": "https://localhost:8080/"
        },
        "id": "ZgXNLf79GMdn",
        "outputId": "062bf3cd-8d4e-4d4e-e82e-7851fef82e78"
      },
      "execution_count": 23,
      "outputs": [
        {
          "output_type": "stream",
          "name": "stdout",
          "text": [
            "4\n"
          ]
        }
      ]
    },
    {
      "cell_type": "markdown",
      "source": [
        "Question 7\n",
        "An array is monotonic if it is either monotone increasing or monotone decreasing.\n",
        "\n",
        "An array nums is monotone increasing if for all i <= j, nums[i] <= nums[j]. An array nums is\n",
        "monotone decreasing if for all i <= j, nums[i] >= nums[j].\n",
        "\n",
        "Given an integer array nums, return true if the given array is monotonic, or false otherwise.\n",
        "\n",
        "Example 1:\n",
        "Input: nums = [1,2,2,3]\n",
        "Output: true"
      ],
      "metadata": {
        "id": "17MeMXh4JKnd"
      }
    },
    {
      "cell_type": "code",
      "source": [
        "def isMonotonic(nums):\n",
        "    isIncreasing = True\n",
        "    isDecreasing = True\n",
        "\n",
        "    for i in range(1, len(nums)):\n",
        "        if nums[i] > nums[i - 1]:\n",
        "            isDecreasing = False\n",
        "        elif nums[i] < nums[i - 1]:\n",
        "            isIncreasing = False\n",
        "\n",
        "    return isIncreasing or isDecreasing\n",
        "\n",
        "\n",
        "# Driver code\n",
        "nums = [1,2,2,3]\n",
        "print(isMonotonic(nums))"
      ],
      "metadata": {
        "colab": {
          "base_uri": "https://localhost:8080/"
        },
        "id": "JCU25h_IHZSd",
        "outputId": "5935a6c6-6ae4-4ff9-c24f-14780a0687da"
      },
      "execution_count": 24,
      "outputs": [
        {
          "output_type": "stream",
          "name": "stdout",
          "text": [
            "True\n"
          ]
        }
      ]
    },
    {
      "cell_type": "markdown",
      "source": [
        "Question 8\n",
        "You are given an integer array nums and an integer k.\n",
        "\n",
        "In one operation, you can choose any index i where 0 <= i < nums.length and change nums[i] to nums[i] + x where x is an integer from the range [-k, k]. You can apply this operation at most once for each index i.\n",
        "\n",
        "The score of nums is the difference between the maximum and minimum elements in nums.\n",
        "\n",
        "Return the minimum score of nums after applying the mentioned operation at most once for each index in it.\n",
        "\n",
        "Example 1:\n",
        "Input: nums = [1], k = 0\n",
        "Output: 0\n",
        "\n",
        "Explanation: The score is max(nums) - min(nums) = 1 - 1 = 0."
      ],
      "metadata": {
        "id": "FBfP5XDHJw6d"
      }
    },
    {
      "cell_type": "code",
      "source": [
        "def minScore(nums, k):\n",
        "    min_val = min(nums)\n",
        "    max_val = max(nums)\n",
        "\n",
        "    if min_val + k >= max_val - k:\n",
        "        return 0\n",
        "    else:\n",
        "        return max_val - k - (min_val + k)\n",
        "\n",
        "\n",
        "# Driver code\n",
        "nums = [1]\n",
        "k = 0\n",
        "print(minScore(nums, k))"
      ],
      "metadata": {
        "colab": {
          "base_uri": "https://localhost:8080/"
        },
        "id": "Oft5AlBXJNWP",
        "outputId": "b30dabc7-f966-41ac-9ac2-50896d55f7f8"
      },
      "execution_count": 25,
      "outputs": [
        {
          "output_type": "stream",
          "name": "stdout",
          "text": [
            "0\n"
          ]
        }
      ]
    },
    {
      "cell_type": "code",
      "source": [],
      "metadata": {
        "id": "9DuQ1AmpJv91"
      },
      "execution_count": null,
      "outputs": []
    },
    {
      "cell_type": "code",
      "source": [],
      "metadata": {
        "id": "DcQj044x3Pow"
      },
      "execution_count": null,
      "outputs": []
    },
    {
      "cell_type": "code",
      "source": [],
      "metadata": {
        "id": "WwWNT_i-3PrN"
      },
      "execution_count": null,
      "outputs": []
    },
    {
      "cell_type": "code",
      "source": [],
      "metadata": {
        "id": "KM2Y6iVR3Pu_"
      },
      "execution_count": null,
      "outputs": []
    },
    {
      "cell_type": "code",
      "source": [],
      "metadata": {
        "id": "zKyyRN7U3P3n"
      },
      "execution_count": null,
      "outputs": []
    }
  ]
}